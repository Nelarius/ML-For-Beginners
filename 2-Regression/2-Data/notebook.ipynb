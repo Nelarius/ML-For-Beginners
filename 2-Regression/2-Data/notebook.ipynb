{
 "cells": [
  {
   "cell_type": "code",
   "execution_count": 47,
   "metadata": {},
   "outputs": [
    {
     "name": "stdout",
     "output_type": "stream",
     "text": [
      "(415, 4)\n",
      "                 Package      Date  Low Price  High Price\n",
      "70  1 1/9 bushel cartons   9/24/16       15.0        15.0\n",
      "71  1 1/9 bushel cartons   9/24/16       18.0        18.0\n",
      "72  1 1/9 bushel cartons   10/1/16       18.0        18.0\n",
      "73  1 1/9 bushel cartons   10/1/16       17.0        17.0\n",
      "74  1 1/9 bushel cartons   10/8/16       15.0        15.0\n",
      "75  1 1/9 bushel cartons   10/8/16       18.0        18.0\n",
      "76  1 1/9 bushel cartons   10/8/16       17.0        17.0\n",
      "77  1 1/9 bushel cartons   10/8/16       17.0        18.5\n",
      "78  1 1/9 bushel cartons  10/15/16       15.0        15.0\n",
      "79  1 1/9 bushel cartons  10/15/16       17.0        17.0\n"
     ]
    }
   ],
   "source": [
    "import pandas as pd\n",
    "import matplotlib.pyplot as plt\n",
    "import seaborn as sns\n",
    "\n",
    "pumpkins = pd.read_csv(\"../data/US-pumpkins.csv\")\n",
    "\n",
    "# The axis argument can take two values: ('index', 'columns'), indicates\n",
    "# whether we should drop stuff from the index or columns.\n",
    "pumpkins_subset = pumpkins.drop([c for c in pumpkins.columns if c not in ['Package', 'Low Price', 'High Price', 'Date']], axis='columns')\n",
    "\n",
    "sold_as_bushel = pumpkins_subset['Package'].str.contains('bushel', case=True, regex=True)\n",
    "pumpkins_subset = pumpkins_subset[sold_as_bushel]\n",
    "\n",
    "print(pumpkins_subset.shape)\n",
    "print(pumpkins_subset.head(10))"
   ]
  },
  {
   "cell_type": "markdown",
   "metadata": {},
   "source": [
    "# Checks for missing data"
   ]
  },
  {
   "cell_type": "code",
   "execution_count": 41,
   "metadata": {},
   "outputs": [
    {
     "data": {
      "text/plain": [
       "Package       0\n",
       "Date          0\n",
       "Low Price     0\n",
       "High Price    0\n",
       "dtype: int64"
      ]
     },
     "execution_count": 41,
     "metadata": {},
     "output_type": "execute_result"
    }
   ],
   "source": [
    "pumpkins_subset.isnull().sum()"
   ]
  },
  {
   "cell_type": "markdown",
   "metadata": {},
   "source": [
    "# Calculate the average monthly price of pumpkins"
   ]
  },
  {
   "cell_type": "code",
   "execution_count": 42,
   "metadata": {},
   "outputs": [
    {
     "name": "stdout",
     "output_type": "stream",
     "text": [
      "                   Package  Month  Avg Price  Low Price  High Price\n",
      "70    1 1/9 bushel cartons      9      13.50      15.00        15.0\n",
      "71    1 1/9 bushel cartons      9      16.20      18.00        18.0\n",
      "72    1 1/9 bushel cartons     10      16.20      18.00        18.0\n",
      "73    1 1/9 bushel cartons     10      15.30      17.00        17.0\n",
      "74    1 1/9 bushel cartons     10      13.50      15.00        15.0\n",
      "...                    ...    ...        ...        ...         ...\n",
      "1738    1/2 bushel cartons      9      30.00      15.00        15.0\n",
      "1739    1/2 bushel cartons      9      28.75      13.75        15.0\n",
      "1740    1/2 bushel cartons      9      25.75      10.75        15.0\n",
      "1741    1/2 bushel cartons      9      24.00      12.00        12.0\n",
      "1742    1/2 bushel cartons      9      24.00      12.00        12.0\n",
      "\n",
      "[415 rows x 5 columns]\n"
     ]
    }
   ],
   "source": [
    "avg_price = 0.5 * (pumpkins_subset['Low Price'] + pumpkins_subset['High Price'])\n",
    "month = pd.DatetimeIndex(pumpkins_subset['Date']).month\n",
    "\n",
    "new_pumpkins = pd.DataFrame({'Package': pumpkins_subset['Package'], 'Month': month, 'Avg Price': avg_price, 'Low Price': pumpkins_subset['Low Price'], 'High Price': pumpkins_subset['High Price']})\n",
    "\n",
    "# Note that 'High Price' and 'Low Price' are unnormalized\n",
    "new_pumpkins.loc[new_pumpkins['Package'].str.contains('1 1/9'), 'Avg Price'] = avg_price / (1.0 + 1.0 / 9.0)\n",
    "new_pumpkins.loc[new_pumpkins['Package'].str.contains('1/2'), 'Avg Price'] = 2.0 * avg_price\n",
    "\n",
    "print(new_pumpkins)"
   ]
  },
  {
   "cell_type": "markdown",
   "metadata": {},
   "source": [
    "# Plotting the data"
   ]
  },
  {
   "cell_type": "code",
   "execution_count": 43,
   "metadata": {},
   "outputs": [],
   "source": [
    "price = new_pumpkins['Avg Price']\n",
    "month = new_pumpkins['Month']"
   ]
  },
  {
   "cell_type": "code",
   "execution_count": 44,
   "metadata": {},
   "outputs": [
    {
     "data": {
      "image/png": "[encoded data removed]",
      "text/plain": [
       "<Figure size 432x288 with 1 Axes>"
      ]
     },
     "metadata": {
      "needs_background": "light"
     },
     "output_type": "display_data"
    }
   ],
   "source": [
    "# Useless plot\n",
    "\n",
    "plt.scatter(price, month)\n",
    "plt.xlabel('Price per bushel')\n",
    "plt.ylabel('Month')\n",
    "plt.show()"
   ]
  },
  {
   "cell_type": "code",
   "execution_count": 45,
   "metadata": {},
   "outputs": [
    {
     "name": "stdout",
     "output_type": "stream",
     "text": [
      "                   Package  Month  Avg Price  Low Price  High Price\n",
      "70    1 1/9 bushel cartons      9     13.500       15.0        15.0\n",
      "71    1 1/9 bushel cartons      9     16.200       18.0        18.0\n",
      "72    1 1/9 bushel cartons     10     16.200       18.0        18.0\n",
      "73    1 1/9 bushel cartons     10     15.300       17.0        17.0\n",
      "74    1 1/9 bushel cartons     10     13.500       15.0        15.0\n",
      "75    1 1/9 bushel cartons     10     16.200       18.0        18.0\n",
      "76    1 1/9 bushel cartons     10     15.300       17.0        17.0\n",
      "77    1 1/9 bushel cartons     10     15.975       17.0        18.5\n",
      "78    1 1/9 bushel cartons     10     13.500       15.0        15.0\n",
      "79    1 1/9 bushel cartons     10     15.300       17.0        17.0\n",
      "80    1 1/9 bushel cartons     10     15.975       17.0        18.5\n",
      "81    1 1/9 bushel cartons     10     13.500       15.0        15.0\n",
      "87    1 1/9 bushel cartons      9     16.200       18.0        18.0\n",
      "88    1 1/9 bushel cartons      9     14.400       16.0        16.0\n",
      "89    1 1/9 bushel cartons      9     16.200       18.0        18.0\n",
      "90    1 1/9 bushel cartons      9     14.400       16.0        16.0\n",
      "91    1 1/9 bushel cartons      9     14.400       16.0        16.0\n",
      "92    1 1/9 bushel cartons      9     14.400       16.0        16.0\n",
      "123     1/2 bushel cartons      9     36.000       18.0        18.0\n",
      "124     1/2 bushel cartons      9     30.000       15.0        15.0\n",
      "144     1/2 bushel cartons     11     33.000       16.0        17.0\n",
      "188   1 1/9 bushel cartons     11     13.275       14.5        15.0\n",
      "189   1 1/9 bushel cartons     11     13.275       14.5        15.0\n",
      "190   1 1/9 bushel cartons     11     13.275       14.5        15.0\n",
      "191   1 1/9 bushel cartons     11     13.275       14.5        15.0\n",
      "362     1/2 bushel cartons     11     31.000       15.0        16.0\n",
      "383    1 1/9 bushel crates     11     13.950       15.0        16.0\n",
      "384    1 1/9 bushel crates     11     13.950       15.0        16.0\n",
      "385    1 1/9 bushel crates     11     13.950       15.0        16.0\n",
      "386    1 1/9 bushel crates     11     13.950       15.0        16.0\n",
      "387    1 1/9 bushel crates     12     13.950       15.0        16.0\n",
      "398   1 1/9 bushel cartons     12     13.950       15.0        16.0\n",
      "399   1 1/9 bushel cartons     12     13.950       15.0        16.0\n",
      "696   1 1/9 bushel cartons     12     15.300       17.0        17.0\n",
      "697   1 1/9 bushel cartons     12     15.300       17.0        17.0\n",
      "698   1 1/9 bushel cartons     12     15.300       17.0        17.0\n",
      "699   1 1/9 bushel cartons     12     15.300       17.0        17.0\n",
      "700   1 1/9 bushel cartons      8     18.000       20.0        20.0\n",
      "719   1 1/9 bushel cartons     12     20.250       22.5        22.5\n",
      "1628  1 1/9 bushel cartons      8     17.100       18.0        20.0\n",
      "1650    1/2 bushel cartons      8     38.000       18.0        20.0\n"
     ]
    },
    {
     "data": {
      "text/plain": [
       "<AxesSubplot:xlabel='Month'>"
      ]
     },
     "execution_count": 45,
     "metadata": {},
     "output_type": "execute_result"
    },
    {
     "data": {
      "image/png": "[encoded data removed]",
      "text/plain": [
       "<Figure size 432x288 with 1 Axes>"
      ]
     },
     "metadata": {
      "needs_background": "light"
     },
     "output_type": "display_data"
    }
   ],
   "source": [
    "# More useful bar plot\n",
    "\n",
    "print(new_pumpkins.groupby(['Month']).head(10))\n",
    "\n",
    "new_pumpkins.groupby(['Month'])['Avg Price'].mean().plot(kind='bar')"
   ]
  },
  {
   "cell_type": "markdown",
   "metadata": {},
   "source": [
    "# Testing `seaborn`"
   ]
  },
  {
   "cell_type": "code",
   "execution_count": 53,
   "metadata": {},
   "outputs": [
    {
     "data": {
      "text/plain": [
       "<AxesSubplot:title={'center':'This is a matplotlib title'}, xlabel='Avg Price', ylabel='Count'>"
      ]
     },
     "execution_count": 53,
     "metadata": {},
     "output_type": "execute_result"
    },
    {
     "data": {
      "image/png": "[encoded data removed]",
      "text/plain": [
       "<Figure size 432x288 with 1 Axes>"
      ]
     },
     "metadata": {
      "needs_background": "light"
     },
     "output_type": "display_data"
    }
   ],
   "source": [
    "# Looks like you can just pass dataframes straight to seaborn\n",
    "\n",
    "plt.title('This is a matplotlib title')\n",
    "sns.histplot(data=new_pumpkins, x='Avg Price')"
   ]
  },
  {
   "cell_type": "code",
   "execution_count": 57,
   "metadata": {},
   "outputs": [
    {
     "data": {
      "text/plain": [
       "<seaborn.axisgrid.FacetGrid at 0x123a825b0>"
      ]
     },
     "execution_count": 57,
     "metadata": {},
     "output_type": "execute_result"
    },
    {
     "data": {
      "image/png": "[encoded data removed]",
      "text/plain": [
       "<Figure size 360x360 with 1 Axes>"
      ]
     },
     "metadata": {},
     "output_type": "display_data"
    }
   ],
   "source": [
    "sns.set_theme(style='ticks')\n",
    "\n",
    "# kind is 'strip', the default.\n",
    "sns.catplot(data=new_pumpkins, x='Month', y='Avg Price', kind='strip')"
   ]
  }
 ],
 "metadata": {
  "kernelspec": {
   "display_name": "Python 3",
   "language": "python",
   "name": "python3"
  },
  "language_info": {
   "codemirror_mode": {
    "name": "ipython",
    "version": 3
   },
   "file_extension": ".py",
   "mimetype": "text/x-python",
   "name": "python",
   "nbconvert_exporter": "python",
   "pygments_lexer": "ipython3",
   "version": "3.9.9"
  },
  "orig_nbformat": 2
 },
 "nbformat": 4,
 "nbformat_minor": 2
}
